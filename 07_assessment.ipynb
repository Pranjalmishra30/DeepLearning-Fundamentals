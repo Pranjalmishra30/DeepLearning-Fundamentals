{
 "cells": [
  {
   "cell_type": "markdown",
   "metadata": {},
   "source": [
    "<img src=\"./images/DLI_Header.png\" style=\"width: 400px;\">"
   ]
  },
  {
   "cell_type": "markdown",
   "metadata": {},
   "source": [
    "# Assessment"
   ]
  },
  {
   "cell_type": "markdown",
   "metadata": {},
   "source": [
    "Congratulations on going through today's course! Hopefully, you've learned some valuable skills along the way and had fun doing it. Now it's time to put those skills to the test. In this assessment, you will train a new model that is able to recognize fresh and rotten fruit. You will need to get the model to a validation accuracy of `92%` in order to pass the assessment, though we challenge you to do even better if you can. You will have the use the skills that you learned in the previous exercises. Specifically, we suggest using some combination of transfer learning, data augmentation, and fine tuning. Once you have trained the model to be at least 92% accurate on the validation dataset, save your model, and then assess its accuracy. Let's get started! "
   ]
  },
  {
   "cell_type": "markdown",
   "metadata": {},
   "source": [
    "## The Dataset"
   ]
  },
  {
   "cell_type": "markdown",
   "metadata": {},
   "source": [
    "In this exercise, you will train a model to recognize fresh and rotten fruits. The dataset comes from [Kaggle](https://www.kaggle.com/sriramr/fruits-fresh-and-rotten-for-classification), a great place to go if you're interested in starting a project after this class. The dataset structure is in the `data/fruits` folder. There are 6 categories of fruits: fresh apples, fresh oranges, fresh bananas, rotten apples, rotten oranges, and rotten bananas. This will mean that your model will require an output layer of 6 neurons to do the categorization successfully. You'll also need to compile the model with `categorical_crossentropy`, as we have more than two categories."
   ]
  },
  {
   "cell_type": "markdown",
   "metadata": {},
   "source": [
    "<img src=\"./images/fruits.png\" style=\"width: 600px;\">"
   ]
  },
  {
   "cell_type": "markdown",
   "metadata": {},
   "source": [
    "## Load ImageNet Base Model"
   ]
  },
  {
   "cell_type": "markdown",
   "metadata": {},
   "source": [
    "We encourage you to start with a model pretrained on ImageNet. Load the model with the correct weights, set an input shape, and choose to remove the last layers of the model. Remember that images have three dimensions: a height, and width, and a number of channels. Because these pictures are in color, there will be three channels for red, green, and blue. We've filled in the input shape for you. This cannot be changed or the assessment will fail. If you need a reference for setting up the pretrained model, please take a look at [notebook 05b](05b_presidential_doggy_door.ipynb) where we implemented transfer learning."
   ]
  },
  {
   "cell_type": "code",
   "execution_count": 2,
   "metadata": {},
   "outputs": [],
   "source": [
    "from tensorflow import keras\n",
    "\n",
    "base_model = keras.applications.VGG16(\n",
    "    weights='imagenet',\n",
    "    input_shape=(224, 224, 3),\n",
    "    include_top=False)"
   ]
  },
  {
   "cell_type": "markdown",
   "metadata": {},
   "source": [
    "## Freeze Base Model"
   ]
  },
  {
   "cell_type": "markdown",
   "metadata": {},
   "source": [
    "Next, we suggest freezing the base model, as done in [notebook 05b](05b_presidential_doggy_door.ipynb). This is done so that all the learning from the ImageNet dataset does not get destroyed in the initial training."
   ]
  },
  {
   "cell_type": "code",
   "execution_count": 3,
   "metadata": {},
   "outputs": [],
   "source": [
    "# Freeze base model\n",
    "base_model.trainable = False"
   ]
  },
  {
   "cell_type": "markdown",
   "metadata": {},
   "source": [
    "## Add Layers to Model"
   ]
  },
  {
   "cell_type": "markdown",
   "metadata": {},
   "source": [
    "Now it's time to add layers to the pretrained model. [Notebook 05b](05b_presidential_doggy_door.ipynb) can be used as a guide. Pay close attention to the last dense layer and make sure it has the correct number of neurons to classify the different types of fruit."
   ]
  },
  {
   "cell_type": "code",
   "execution_count": 4,
   "metadata": {},
   "outputs": [],
   "source": [
    "# Create inputs with correct shape\n",
    "inputs = keras.Input(shape=(224,224,3))\n",
    "\n",
    "x = base_model(inputs, training=False)\n",
    "\n",
    "# Add pooling layer or flatten layer\n",
    "x = keras.layers.GlobalAveragePooling2D()(x)\n",
    "\n",
    "# Add final dense layer\n",
    "outputs = keras.layers.Dense(6, activation = 'softmax')(x)\n",
    "\n",
    "# Combine inputs and outputs to create model\n",
    "model = keras.Model(inputs,outputs)"
   ]
  },
  {
   "cell_type": "code",
   "execution_count": 5,
   "metadata": {},
   "outputs": [
    {
     "name": "stdout",
     "output_type": "stream",
     "text": [
      "Model: \"model\"\n",
      "_________________________________________________________________\n",
      "Layer (type)                 Output Shape              Param #   \n",
      "=================================================================\n",
      "input_2 (InputLayer)         [(None, 224, 224, 3)]     0         \n",
      "_________________________________________________________________\n",
      "vgg16 (Model)                (None, 7, 7, 512)         14714688  \n",
      "_________________________________________________________________\n",
      "global_average_pooling2d (Gl (None, 512)               0         \n",
      "_________________________________________________________________\n",
      "dense (Dense)                (None, 6)                 3078      \n",
      "=================================================================\n",
      "Total params: 14,717,766\n",
      "Trainable params: 3,078\n",
      "Non-trainable params: 14,714,688\n",
      "_________________________________________________________________\n"
     ]
    }
   ],
   "source": [
    "model.summary()"
   ]
  },
  {
   "cell_type": "markdown",
   "metadata": {},
   "source": [
    "## Compile Model"
   ]
  },
  {
   "cell_type": "markdown",
   "metadata": {},
   "source": [
    "Now it's time to compile the model with loss and metrics options. Remember that we're training on a number of different categories, rather than a binary classification problem."
   ]
  },
  {
   "cell_type": "code",
   "execution_count": 8,
   "metadata": {},
   "outputs": [],
   "source": [
    "model.compile(loss = keras.losses.CategoricalCrossentropy(from_logits=True) , metrics = [keras.metrics.CategoricalAccuracy()])"
   ]
  },
  {
   "cell_type": "markdown",
   "metadata": {},
   "source": [
    "## Augment the Data"
   ]
  },
  {
   "cell_type": "markdown",
   "metadata": {},
   "source": [
    "If you'd like, try to augment the data to improve the dataset. Feel free to look at [notebook 04a](04a_asl_augmentation.ipynb) and [notebook 05b](05b_presidential_doggy_door.ipynb) for augmentation examples. There is also documentation for the [Keras ImageDataGenerator class](https://keras.io/api/preprocessing/image/#imagedatagenerator-class). This step is optional, but it may be helpful to get to 92% accuracy."
   ]
  },
  {
   "cell_type": "code",
   "execution_count": 9,
   "metadata": {},
   "outputs": [],
   "source": [
    "from tensorflow.keras.preprocessing.image import ImageDataGenerator\n",
    "\n",
    "datagen = ImageDataGenerator(\n",
    "        samplewise_center=True,\n",
    "        rotation_range=10,\n",
    "        zoom_range=0.1,\n",
    "        width_shift_range=0.1,\n",
    "        height_shift_range=0.1,\n",
    "        horizontal_flip=True,\n",
    "        vertical_flip=False)"
   ]
  },
  {
   "cell_type": "markdown",
   "metadata": {},
   "source": [
    "## Load Dataset"
   ]
  },
  {
   "cell_type": "markdown",
   "metadata": {},
   "source": [
    "Now it's time to load the train and validation datasets. Pick the right folders, as well as the right `target_size` of the images (it needs to match the height and width input of the model you've created). If you'd like a reference, you can check out [notebook 05b](05b_presidential_doggy_door.ipynb)."
   ]
  },
  {
   "cell_type": "code",
   "execution_count": 10,
   "metadata": {},
   "outputs": [
    {
     "name": "stdout",
     "output_type": "stream",
     "text": [
      "Found 1182 images belonging to 6 classes.\n",
      "Found 329 images belonging to 6 classes.\n"
     ]
    }
   ],
   "source": [
    "# load and iterate training dataset\n",
    "train_it = datagen.flow_from_directory('data/fruits/train/', \n",
    "                                       target_size=(224,224), \n",
    "                                       color_mode='rgb', \n",
    "                                       class_mode=\"categorical\")\n",
    "# load and iterate validation dataset\n",
    "valid_it = datagen.flow_from_directory('data/fruits/valid/', \n",
    "                                      target_size=(224,224), \n",
    "                                      color_mode='rgb', \n",
    "                                      class_mode=\"categorical\")"
   ]
  },
  {
   "cell_type": "markdown",
   "metadata": {},
   "source": [
    "## Train the Model"
   ]
  },
  {
   "cell_type": "markdown",
   "metadata": {},
   "source": [
    "Time to train the model! Pass the `train` and `valid` iterators into the `fit` function, as well as setting your desired number of epochs."
   ]
  },
  {
   "cell_type": "code",
   "execution_count": 11,
   "metadata": {},
   "outputs": [
    {
     "name": "stdout",
     "output_type": "stream",
     "text": [
      "Epoch 1/20\n",
      "37/36 [==============================] - 28s 747ms/step - loss: 1.6445 - categorical_accuracy: 0.3926 - val_loss: 1.4967 - val_categorical_accuracy: 0.5441\n",
      "Epoch 2/20\n",
      "37/36 [==============================] - 18s 498ms/step - loss: 1.4166 - categorical_accuracy: 0.6277 - val_loss: 1.3499 - val_categorical_accuracy: 0.7021\n",
      "Epoch 3/20\n",
      "37/36 [==============================] - 19s 503ms/step - loss: 1.3076 - categorical_accuracy: 0.7386 - val_loss: 1.2610 - val_categorical_accuracy: 0.7933\n",
      "Epoch 4/20\n",
      "37/36 [==============================] - 19s 504ms/step - loss: 1.2672 - categorical_accuracy: 0.7809 - val_loss: 1.2895 - val_categorical_accuracy: 0.7568\n",
      "Epoch 5/20\n",
      "37/36 [==============================] - 19s 503ms/step - loss: 1.2388 - categorical_accuracy: 0.8105 - val_loss: 1.2473 - val_categorical_accuracy: 0.7994\n",
      "Epoch 6/20\n",
      "37/36 [==============================] - 19s 502ms/step - loss: 1.2327 - categorical_accuracy: 0.8198 - val_loss: 1.2465 - val_categorical_accuracy: 0.7933\n",
      "Epoch 7/20\n",
      "37/36 [==============================] - 19s 502ms/step - loss: 1.2227 - categorical_accuracy: 0.8232 - val_loss: 1.2438 - val_categorical_accuracy: 0.7994\n",
      "Epoch 8/20\n",
      "37/36 [==============================] - 19s 500ms/step - loss: 1.2198 - categorical_accuracy: 0.8249 - val_loss: 1.2110 - val_categorical_accuracy: 0.8328\n",
      "Epoch 9/20\n",
      "37/36 [==============================] - 19s 504ms/step - loss: 1.2147 - categorical_accuracy: 0.8325 - val_loss: 1.2444 - val_categorical_accuracy: 0.8024\n",
      "Epoch 10/20\n",
      "37/36 [==============================] - 19s 505ms/step - loss: 1.2105 - categorical_accuracy: 0.8359 - val_loss: 1.2283 - val_categorical_accuracy: 0.8146\n",
      "Epoch 11/20\n",
      "37/36 [==============================] - 18s 497ms/step - loss: 1.2126 - categorical_accuracy: 0.8316 - val_loss: 1.2266 - val_categorical_accuracy: 0.8176\n",
      "Epoch 12/20\n",
      "37/36 [==============================] - 19s 504ms/step - loss: 1.2104 - categorical_accuracy: 0.8359 - val_loss: 1.2394 - val_categorical_accuracy: 0.7994\n",
      "Epoch 13/20\n",
      "37/36 [==============================] - 19s 503ms/step - loss: 1.2071 - categorical_accuracy: 0.8384 - val_loss: 1.2308 - val_categorical_accuracy: 0.8116\n",
      "Epoch 14/20\n",
      "37/36 [==============================] - 19s 501ms/step - loss: 1.2044 - categorical_accuracy: 0.8401 - val_loss: 1.2204 - val_categorical_accuracy: 0.8237\n",
      "Epoch 15/20\n",
      "37/36 [==============================] - 19s 506ms/step - loss: 1.2051 - categorical_accuracy: 0.8393 - val_loss: 1.2430 - val_categorical_accuracy: 0.8024\n",
      "Epoch 16/20\n",
      "37/36 [==============================] - 19s 503ms/step - loss: 1.2040 - categorical_accuracy: 0.8393 - val_loss: 1.2168 - val_categorical_accuracy: 0.8267\n",
      "Epoch 17/20\n",
      "37/36 [==============================] - 18s 498ms/step - loss: 1.2064 - categorical_accuracy: 0.8367 - val_loss: 1.2315 - val_categorical_accuracy: 0.8055\n",
      "Epoch 18/20\n",
      "37/36 [==============================] - 18s 498ms/step - loss: 1.2041 - categorical_accuracy: 0.8384 - val_loss: 1.2393 - val_categorical_accuracy: 0.7994\n",
      "Epoch 19/20\n",
      "37/36 [==============================] - 19s 501ms/step - loss: 1.2017 - categorical_accuracy: 0.8409 - val_loss: 1.2137 - val_categorical_accuracy: 0.8328\n",
      "Epoch 20/20\n",
      "37/36 [==============================] - 19s 503ms/step - loss: 1.2026 - categorical_accuracy: 0.8418 - val_loss: 1.2180 - val_categorical_accuracy: 0.8207\n"
     ]
    },
    {
     "data": {
      "text/plain": [
       "<tensorflow.python.keras.callbacks.History at 0x7f5994185470>"
      ]
     },
     "execution_count": 11,
     "metadata": {},
     "output_type": "execute_result"
    }
   ],
   "source": [
    "model.fit(train_it,\n",
    "          validation_data=valid_it,\n",
    "          steps_per_epoch=train_it.samples/train_it.batch_size,\n",
    "          validation_steps=valid_it.samples/valid_it.batch_size,\n",
    "          epochs=20)"
   ]
  },
  {
   "cell_type": "markdown",
   "metadata": {},
   "source": [
    "## Unfreeze Model for Fine Tuning"
   ]
  },
  {
   "cell_type": "markdown",
   "metadata": {},
   "source": [
    "If you have reached 92% validation accuracy already, this next step is optional. If not, we suggest fine tuning the model with a very low learning rate."
   ]
  },
  {
   "cell_type": "code",
   "execution_count": 12,
   "metadata": {},
   "outputs": [],
   "source": [
    "# Unfreeze the base model\n",
    "base_model.trainable = True\n",
    "\n",
    "# Compile the model with a low learning rate\n",
    "model.compile(optimizer=keras.optimizers.RMSprop(learning_rate = 0.00001),\n",
    "              loss = keras.losses.CategoricalCrossentropy(from_logits=True) , \n",
    "              metrics = keras.metrics.CategoricalAccuracy())"
   ]
  },
  {
   "cell_type": "code",
   "execution_count": 14,
   "metadata": {},
   "outputs": [
    {
     "name": "stdout",
     "output_type": "stream",
     "text": [
      "Epoch 1/20\n",
      "37/36 [==============================] - 20s 544ms/step - loss: 1.1919 - categorical_accuracy: 0.8494 - val_loss: 1.2153 - val_categorical_accuracy: 0.8267\n",
      "Epoch 2/20\n",
      "37/36 [==============================] - 20s 534ms/step - loss: 1.1977 - categorical_accuracy: 0.8426 - val_loss: 1.2089 - val_categorical_accuracy: 0.8298\n",
      "Epoch 3/20\n",
      "37/36 [==============================] - 19s 524ms/step - loss: 1.1955 - categorical_accuracy: 0.8443 - val_loss: 1.2004 - val_categorical_accuracy: 0.8419\n",
      "Epoch 4/20\n",
      "37/36 [==============================] - 20s 540ms/step - loss: 1.1979 - categorical_accuracy: 0.8401 - val_loss: 1.2009 - val_categorical_accuracy: 0.8359\n",
      "Epoch 5/20\n",
      "37/36 [==============================] - 20s 546ms/step - loss: 1.1915 - categorical_accuracy: 0.8452 - val_loss: 1.2073 - val_categorical_accuracy: 0.8298\n",
      "Epoch 6/20\n",
      "37/36 [==============================] - 20s 553ms/step - loss: 1.1893 - categorical_accuracy: 0.8469 - val_loss: 1.2235 - val_categorical_accuracy: 0.8146\n",
      "Epoch 7/20\n",
      "37/36 [==============================] - 20s 543ms/step - loss: 1.1976 - categorical_accuracy: 0.8376 - val_loss: 1.1951 - val_categorical_accuracy: 0.8450\n",
      "Epoch 8/20\n",
      "37/36 [==============================] - 20s 545ms/step - loss: 1.1021 - categorical_accuracy: 0.9416 - val_loss: 1.0834 - val_categorical_accuracy: 0.9635\n",
      "Epoch 9/20\n",
      "37/36 [==============================] - 20s 530ms/step - loss: 1.0607 - categorical_accuracy: 0.9831 - val_loss: 1.0587 - val_categorical_accuracy: 0.9878\n",
      "Epoch 10/20\n",
      "37/36 [==============================] - 20s 544ms/step - loss: 1.0533 - categorical_accuracy: 0.9898 - val_loss: 1.0496 - val_categorical_accuracy: 0.9970\n",
      "Epoch 11/20\n",
      "37/36 [==============================] - 20s 534ms/step - loss: 1.0492 - categorical_accuracy: 0.9949 - val_loss: 1.0702 - val_categorical_accuracy: 0.9757\n",
      "Epoch 12/20\n",
      "37/36 [==============================] - 20s 543ms/step - loss: 1.0466 - categorical_accuracy: 0.9975 - val_loss: 1.0596 - val_categorical_accuracy: 0.9878\n",
      "Epoch 13/20\n",
      "37/36 [==============================] - 20s 541ms/step - loss: 1.0479 - categorical_accuracy: 0.9966 - val_loss: 1.0728 - val_categorical_accuracy: 0.9696\n",
      "Epoch 14/20\n",
      "37/36 [==============================] - 20s 540ms/step - loss: 1.0466 - categorical_accuracy: 0.9975 - val_loss: 1.0573 - val_categorical_accuracy: 0.9848\n",
      "Epoch 15/20\n",
      "37/36 [==============================] - 20s 547ms/step - loss: 1.0525 - categorical_accuracy: 0.9915 - val_loss: 1.0933 - val_categorical_accuracy: 0.9514\n",
      "Epoch 16/20\n",
      "37/36 [==============================] - 20s 543ms/step - loss: 1.0473 - categorical_accuracy: 0.9975 - val_loss: 1.0865 - val_categorical_accuracy: 0.9574\n",
      "Epoch 17/20\n",
      "37/36 [==============================] - 20s 550ms/step - loss: 1.0460 - categorical_accuracy: 0.9983 - val_loss: 1.0555 - val_categorical_accuracy: 0.9878\n",
      "Epoch 18/20\n",
      "37/36 [==============================] - 20s 540ms/step - loss: 1.0456 - categorical_accuracy: 0.9983 - val_loss: 1.0506 - val_categorical_accuracy: 0.9939\n",
      "Epoch 19/20\n",
      "37/36 [==============================] - 20s 547ms/step - loss: 1.0457 - categorical_accuracy: 0.9992 - val_loss: 1.0510 - val_categorical_accuracy: 0.9939\n",
      "Epoch 20/20\n",
      "37/36 [==============================] - 20s 550ms/step - loss: 1.0437 - categorical_accuracy: 1.0000 - val_loss: 1.0551 - val_categorical_accuracy: 0.9909\n"
     ]
    },
    {
     "data": {
      "text/plain": [
       "<tensorflow.python.keras.callbacks.History at 0x7f56291c5a58>"
      ]
     },
     "execution_count": 14,
     "metadata": {},
     "output_type": "execute_result"
    }
   ],
   "source": [
    "model.fit(train_it,\n",
    "          validation_data=valid_it,\n",
    "          steps_per_epoch=train_it.samples/train_it.batch_size,\n",
    "          validation_steps=valid_it.samples/valid_it.batch_size,\n",
    "          epochs=20)"
   ]
  },
  {
   "cell_type": "markdown",
   "metadata": {},
   "source": [
    "## Evaluate the Model"
   ]
  },
  {
   "cell_type": "markdown",
   "metadata": {},
   "source": [
    "Hopefully, you now have a model that has a validation accuracy of 92% or higher. If not, you may want to go back and either run more epochs of training, or adjust your data augmentation. \n",
    "\n",
    "Once you are satisfied with the validation accuracy, evaluate the model by executing the following cell. The evaluate function will return a tuple, where the first value is your loss, and the second value is your accuracy. To pass, the model will need have an accuracy value of `92% or higher`. "
   ]
  },
  {
   "cell_type": "code",
   "execution_count": 15,
   "metadata": {},
   "outputs": [
    {
     "name": "stdout",
     "output_type": "stream",
     "text": [
      "11/10 [================================] - 4s 324ms/step - loss: 1.0564 - categorical_accuracy: 0.9878\n"
     ]
    },
    {
     "data": {
      "text/plain": [
       "[1.0563783645629883, 0.9878419637680054]"
      ]
     },
     "execution_count": 15,
     "metadata": {},
     "output_type": "execute_result"
    }
   ],
   "source": [
    "model.evaluate(valid_it, steps=valid_it.samples/valid_it.batch_size)"
   ]
  },
  {
   "cell_type": "markdown",
   "metadata": {},
   "source": [
    "## Run the Assessment"
   ]
  },
  {
   "cell_type": "markdown",
   "metadata": {},
   "source": [
    "To assess your model run the following two cells.\n",
    "\n",
    "**NOTE:** `run_assessment` assumes your model is named `model` and your validation data iterator is called `valid_it`. If for any reason you have modified these variable names, please update the names of the arguments passed to `run_assessment`."
   ]
  },
  {
   "cell_type": "code",
   "execution_count": 16,
   "metadata": {},
   "outputs": [],
   "source": [
    "from run_assessment import run_assessment"
   ]
  },
  {
   "cell_type": "code",
   "execution_count": 17,
   "metadata": {},
   "outputs": [
    {
     "name": "stdout",
     "output_type": "stream",
     "text": [
      "Evaluating model 5 times to obtain average accuracy...\n",
      "\n",
      "11/10 [================================] - 4s 329ms/step - loss: 1.0518 - categorical_accuracy: 0.9909\n",
      "11/10 [================================] - 4s 328ms/step - loss: 1.0579 - categorical_accuracy: 0.9848\n",
      "11/10 [================================] - 4s 333ms/step - loss: 1.0491 - categorical_accuracy: 0.9970\n",
      "11/10 [================================] - 4s 357ms/step - loss: 1.0539 - categorical_accuracy: 0.9909\n",
      "11/10 [================================] - 4s 324ms/step - loss: 1.0545 - categorical_accuracy: 0.9878\n",
      "\n",
      "Accuracy required to pass the assessment is 0.92 or greater.\n",
      "Your average accuracy is 0.9903.\n",
      "\n",
      "Congratulations! You passed the assessment!\n",
      "See instructions below to generate a certificate.\n"
     ]
    }
   ],
   "source": [
    "run_assessment(model, valid_it)"
   ]
  },
  {
   "cell_type": "markdown",
   "metadata": {},
   "source": [
    "## Generate a Certificate"
   ]
  },
  {
   "cell_type": "markdown",
   "metadata": {},
   "source": [
    "If you passed the assessment, please return to the course page (shown below) and click the \"ASSESS TASK\" button, which will generate your certificate for the course."
   ]
  },
  {
   "cell_type": "markdown",
   "metadata": {},
   "source": [
    "<img src=\"./images/assess_task.png\" style=\"width: 800px;\">"
   ]
  }
 ],
 "metadata": {
  "kernelspec": {
   "display_name": "Python 3 (ipykernel)",
   "language": "python",
   "name": "python3"
  },
  "language_info": {
   "codemirror_mode": {
    "name": "ipython",
    "version": 3
   },
   "file_extension": ".py",
   "mimetype": "text/x-python",
   "name": "python",
   "nbconvert_exporter": "python",
   "pygments_lexer": "ipython3",
   "version": "3.9.7"
  }
 },
 "nbformat": 4,
 "nbformat_minor": 4
}
